{
 "cells": [
  {
   "cell_type": "markdown",
   "metadata": {},
   "source": [
    "# Singapore University Acceptance Classification Model"
   ]
  },
  {
   "cell_type": "code",
   "execution_count": 1,
   "metadata": {},
   "outputs": [],
   "source": [
    "import pandas as pd"
   ]
  },
  {
   "cell_type": "markdown",
   "metadata": {},
   "source": [
    "## Load Data"
   ]
  },
  {
   "cell_type": "code",
   "execution_count": 7,
   "metadata": {},
   "outputs": [
    {
     "data": {
      "text/html": [
       "<div>\n",
       "<style scoped>\n",
       "    .dataframe tbody tr th:only-of-type {\n",
       "        vertical-align: middle;\n",
       "    }\n",
       "\n",
       "    .dataframe tbody tr th {\n",
       "        vertical-align: top;\n",
       "    }\n",
       "\n",
       "    .dataframe thead th {\n",
       "        text-align: right;\n",
       "    }\n",
       "</style>\n",
       "<table border=\"1\" class=\"dataframe\">\n",
       "  <thead>\n",
       "    <tr style=\"text-align: right;\">\n",
       "      <th></th>\n",
       "      <th>Nationality</th>\n",
       "      <th>Education Track</th>\n",
       "      <th>Results (GPA)</th>\n",
       "      <th>A-level Results</th>\n",
       "      <th>IB Score</th>\n",
       "      <th>University</th>\n",
       "      <th>Course Name</th>\n",
       "      <th>Results</th>\n",
       "    </tr>\n",
       "  </thead>\n",
       "  <tbody>\n",
       "    <tr>\n",
       "      <th>0</th>\n",
       "      <td>Singaporean</td>\n",
       "      <td>Poly</td>\n",
       "      <td>3.94</td>\n",
       "      <td>NaN</td>\n",
       "      <td>NaN</td>\n",
       "      <td>NUS</td>\n",
       "      <td>Accountancy</td>\n",
       "      <td>Accepted by direct entry/discovery day</td>\n",
       "    </tr>\n",
       "    <tr>\n",
       "      <th>1</th>\n",
       "      <td>Singaporean</td>\n",
       "      <td>Poly</td>\n",
       "      <td>3.00</td>\n",
       "      <td>NaN</td>\n",
       "      <td>NaN</td>\n",
       "      <td>NUS</td>\n",
       "      <td>Applied Ai And Analytics</td>\n",
       "      <td>Rejected</td>\n",
       "    </tr>\n",
       "    <tr>\n",
       "      <th>2</th>\n",
       "      <td>Singaporean</td>\n",
       "      <td>Poly</td>\n",
       "      <td>3.69</td>\n",
       "      <td>NaN</td>\n",
       "      <td>NaN</td>\n",
       "      <td>NUS</td>\n",
       "      <td>Architecture</td>\n",
       "      <td>Accepted by direct entry/discovery day</td>\n",
       "    </tr>\n",
       "    <tr>\n",
       "      <th>3</th>\n",
       "      <td>Singaporean</td>\n",
       "      <td>JC</td>\n",
       "      <td>NaN</td>\n",
       "      <td>76.25</td>\n",
       "      <td>NaN</td>\n",
       "      <td>NUS</td>\n",
       "      <td>Architecture</td>\n",
       "      <td>Accepted by ABA</td>\n",
       "    </tr>\n",
       "    <tr>\n",
       "      <th>4</th>\n",
       "      <td>Singaporean</td>\n",
       "      <td>JC</td>\n",
       "      <td>NaN</td>\n",
       "      <td>78.75</td>\n",
       "      <td>NaN</td>\n",
       "      <td>NUS</td>\n",
       "      <td>Bba</td>\n",
       "      <td>Rejected</td>\n",
       "    </tr>\n",
       "  </tbody>\n",
       "</table>\n",
       "</div>"
      ],
      "text/plain": [
       "   Nationality Education Track  Results (GPA) A-level Results  IB Score  \\\n",
       "0  Singaporean            Poly           3.94             NaN       NaN   \n",
       "1  Singaporean            Poly           3.00             NaN       NaN   \n",
       "2  Singaporean            Poly           3.69             NaN       NaN   \n",
       "3  Singaporean              JC            NaN           76.25       NaN   \n",
       "4  Singaporean              JC            NaN           78.75       NaN   \n",
       "\n",
       "  University               Course Name                                 Results  \n",
       "0        NUS               Accountancy  Accepted by direct entry/discovery day  \n",
       "1        NUS  Applied Ai And Analytics                                Rejected  \n",
       "2        NUS              Architecture  Accepted by direct entry/discovery day  \n",
       "3        NUS              Architecture                         Accepted by ABA  \n",
       "4        NUS                       Bba                                Rejected  "
      ]
     },
     "execution_count": 7,
     "metadata": {},
     "output_type": "execute_result"
    }
   ],
   "source": [
    "df = pd.read_csv(\"data/2023-NUS.csv\", header=1)\n",
    "df.head()"
   ]
  },
  {
   "cell_type": "markdown",
   "metadata": {},
   "source": [
    "## Data Preprocessing\n",
    "\n",
    "### Data Overview\n",
    "\n",
    "- **Features**\n",
    "  - Nationality\n",
    "  - Education\n",
    "  - Results (GPA / A-Level / IB)\n",
    "  - Course\n",
    "- **Target**: Results\n",
    "\n",
    "### Preprocessing Steps\n",
    "\n",
    "1. Categorize nationality.\n",
    "2. Categorize education.\n",
    "3. Categorize course?\n",
    "4. Convert results to 0 / 1."
   ]
  }
 ],
 "metadata": {
  "kernelspec": {
   "display_name": ".venv",
   "language": "python",
   "name": "python3"
  },
  "language_info": {
   "codemirror_mode": {
    "name": "ipython",
    "version": 3
   },
   "file_extension": ".py",
   "mimetype": "text/x-python",
   "name": "python",
   "nbconvert_exporter": "python",
   "pygments_lexer": "ipython3",
   "version": "3.12.2"
  }
 },
 "nbformat": 4,
 "nbformat_minor": 2
}
